{
 "cells": [
  {
   "cell_type": "markdown",
   "metadata": {
    "slideshow": {
     "slide_type": "slide"
    }
   },
   "source": [
    "# Power Spectrum\n",
    "\n",
    "Also read Chaper 8 & 11 in Ryden's book and Chapter 2 in Andrey's notes.\n",
    "\n",
    "A nice summary of the following three classes can also be found here:\n",
    "https://ned.ipac.caltech.edu/level5/March01/Coles/Coles2.html\n",
    "\n",
    "It is assumed that you have been able to follow the setup instructions outlined in getting_setup.py"
   ]
  },
  {
   "cell_type": "markdown",
   "metadata": {},
   "source": [
    "## Aknowledgements\n",
    "\n",
    "Many aspects of this class are based on classes taught by Andrey Kravtsov and Frank van den Bosch. I am grateful for the various materials they provided that have been used throughout this class."
   ]
  },
  {
   "cell_type": "markdown",
   "metadata": {},
   "source": [
    "## Assumed knowledge\n",
    "\n",
    "Please see getting_setup.ipynb"
   ]
  },
  {
   "cell_type": "markdown",
   "metadata": {},
   "source": [
    "### Spectrum of density perturbations: origin and evidence"
   ]
  },
  {
   "cell_type": "markdown",
   "metadata": {},
   "source": [
    "The origin of density fluctuations in the universe will be covered in the core Cosmology class. \n",
    "If you want to find more detailed information, with complete derivations of results, please consult Ch. 4 of MvdBW book, Anthony Lewis's <a href=\"http://cosmologist.info/teaching/EU/notes_inflation_jesus.pdf\">notes</a> on generation and evolution of perturbations during inflation, Ch. 7 of Scott Dodelson's <a href=\"https://catalog.lib.uchicago.edu/vufind/Record/9231983\">\"Modern Cosmology\"</a> book, or Ch 10 of Steven Weinberg's <a href=\"https://catalog.lib.uchicago.edu/vufind/Record/9249834\">\"Cosmology\"</a> book for an even more complete treatment. The evolution of perturbations in the post-inflation epochs is treated nicely and in detail in Ch. 7 of Scott Dodelson's <a href=\"https://catalog.lib.uchicago.edu/vufind/Record/9231983\">\"Modern Cosmology\"</a> book. "
   ]
  },
  {
   "cell_type": "markdown",
   "metadata": {},
   "source": [
    "Also see section 11.4 in Ryden's book\n",
    "\n",
    "Density fluctuations: \n",
    "\n",
    "$$\\delta(\\vec{r})=\\frac{\\rho(\\vec{r})-\\bar{\\rho}}{\\bar{\\rho}}$$\n",
    "\n",
    "$\\delta$ is dimensionless.\n",
    "\n",
    "The power spectrum of density fluctuations, P(k), is defined as the average amplitude of the Fourier component of $\\delta$:\n",
    "\n",
    "$$\n",
    "P(k)=\\langle \\vert\\delta_{k}\\vert^2\\rangle\n",
    "$$\n",
    "\n",
    "where the average is computed over some shell $[k,k+dk]$ in Fourier space, and is normalized by the volume of the shell, $4\\pi k^2dk$ (remember, we are working in 3D space). Note that the units of $P(k)$ are thus $k^{-3}=l^3/(2\\pi)^3$ or volume (comoving), although the expression for $P(k)$ does not explicitly depend on volume. \n",
    "\n",
    "* $\\vec{k}$: comoving wavenumber with units of Mpc$^{-1}$\n",
    "* $\\lambda=2\\pi/k$: comoving wavelength  \n",
    "\n",
    "Note that: \n",
    "\n",
    "* $\\delta(\\vec{r})$ is the density field\n",
    "* $\\delta_{\\vec{k}}$ is a fourier component\n",
    "\n",
    "\n",
    "The statistical properties of a uniform and isotropic Gaussian field can be fully characterized by the power spectrum, $P(k)$. \n",
    "\n",
    "The power spectrum depends only on the modulus $k$ of the wavevector, but not on its direction. \n",
    "    \n",
    "The dimensionless power spectrum is $\\Delta^2(k)=\\frac{k^3}{2\\pi^2}P(k)$.\n",
    "    "
   ]
  },
  {
   "cell_type": "markdown",
   "metadata": {},
   "source": [
    "<img width=800 align=left src=\"slidesfigs/astro610_lecture4-03.png\"></img>"
   ]
  },
  {
   "cell_type": "markdown",
   "metadata": {},
   "source": [
    "<img width=800 align=left src=\"slidesfigs/astro610_lecture4-04.png\"></img>"
   ]
  },
  {
   "cell_type": "markdown",
   "metadata": {
    "slideshow": {
     "slide_type": "slide"
    }
   },
   "source": [
    "## Inflation: form of the initial power spectrum "
   ]
  },
  {
   "cell_type": "markdown",
   "metadata": {},
   "source": [
    "Inflation: a period of extremely rapid, near-exponential expansion during which the universe would of grown by at least a factor of $e^{57}$ in size. Inflation may be the explanation for the homogeneity and flatness of the universe, and for the origin of primordial fluctuations that seeded the growth of galaxies and large scale structure."
   ]
  },
  {
   "cell_type": "markdown",
   "metadata": {
    "slideshow": {
     "slide_type": "slide"
    }
   },
   "source": [
    "In the current cosmology paradigm posits that the universe experienced an inflationary period of expansion during early stages of evolution. This inflationary period produces a nearly scale invariant power spectrum\n",
    "\n",
    "$$\\Delta^2(k)\\propto k^{4}\\ \\mathrm{or}\\ P(k)\\propto k,$$ \n",
    "\n",
    "\n",
    "The <a href=\"http://adsabs.harvard.edu/abs/2016A%26A...594A..13P\">current constraints from the Planck observatory 2015</a> indicate initial perturbation spectrum very close to the Gaussian (deviations from Gaussianity were not detected at a fairly stringent level) and the power spectrum shape on the largest scales: $P(k)\\propto k^n$ with  \n",
    "\n",
    "$$n=0.968\\pm 0.006$$"
   ]
  },
  {
   "cell_type": "markdown",
   "metadata": {
    "slideshow": {
     "slide_type": "slide"
    }
   },
   "source": [
    "Inflation created a universe with an isotropic, homogenous, and almost perfectly smooth matter distribution. \n",
    "However, the matter distribution isn't completely smooth as it contains small perturbations. These perturbations are visible in the Cosmic Microwave Background"
   ]
  },
  {
   "cell_type": "markdown",
   "metadata": {},
   "source": [
    "## Perturbations are visible in the CMB"
   ]
  },
  {
   "cell_type": "markdown",
   "metadata": {
    "slideshow": {
     "slide_type": "slide"
    }
   },
   "source": [
    "\n",
    "* Cosmic Background Explorer: COBE, 1989\n",
    "* Wilkinson Microwave Anisotropy Probe: WMAP 2001\n",
    "* Planck: 2009\n",
    "\n",
    "Fluctuations in the Cosmic Microwave Background temperature were detected and measured by the COBE satellite in 1992. Prior to COBE, the RELIKT space mission found hints of these fluctuations.\n",
    "\n",
    "<img width=800 align=center src=\"http://astro.uchicago.edu/~andrey/classes/a304/fig/cmb_cobe_map.gif\"></img>\n",
    "\n",
    "### Temperature fluctuations in the CMB\n",
    "\n",
    "The CMB has a dipole distortion in temperture. The dipole is a doppler effect is caused by the fact that the Earth is in motion (around the sun, around the galactic center, and relative to the center of mass of the Local group) with respect to a frame of reference in which the CMB is isotropic.\n",
    "\n",
    "After the dipole, and the non thermal foreground emission are subtracted, the temperature fluctuations are small in amplitude.\n",
    "\n",
    "$<T>=2.7255$ K\n",
    "\n",
    "Root mean square of temperature fluctuations: of order $10^{-5}$\n",
    "\n",
    "<img width=800 align=center src=\"http://astro.uchicago.edu/~andrey/classes/a304/fig/cmb_cobe_wmap_planck.jpg\"></img>\n"
   ]
  },
  {
   "cell_type": "markdown",
   "metadata": {
    "slideshow": {
     "slide_type": "slide"
    }
   },
   "source": [
    "Temperature fluctuations in the CMB As measured by the <a href=\"http://www.esa.int/Our_Activities/Space_Science/Planck\">Planck</a> satellite. \n",
    "\n",
    "<img width=800 align=center src=\"http://www.esa.int/var/esa/storage/images/esa_multimedia/images/2013/03/planck_cmb/12583930-4-eng-GB/Planck_CMB.jpg\"></img>"
   ]
  },
  {
   "cell_type": "markdown",
   "metadata": {},
   "source": [
    "From Wayne Hu's website:\n",
    "\n",
    "The temperature fluctuations (anisotropies) $\\Delta_T$ of the CMB expressed as a function of multipole $l$.\n",
    "\n",
    "The __angular__ wavenumber, called a multipole l, of the power spectrum is related to the inverse of the angular scale: \n",
    "\n",
    "* angular scale $\\theta \\propto 180^{\\circ}/l$\n",
    "\n",
    "($\\theta$ and $l$ are analogous to $\\lambda$ and $k$ which are defined in 3D space as opposed to angular space)\n",
    "\n",
    "* small $l$ => large angular scales\n",
    "* large $l$ => small angular scales\n",
    "\n",
    "l=100 is approximately 1 degree\n",
    "\n",
    "<img width=800 align=center src=\"http://background.uchicago.edu/~whu/animbut/filterall.gif\"></img>\n"
   ]
  },
  {
   "cell_type": "markdown",
   "metadata": {},
   "source": [
    "Particle horizon distance: The particle horizon is the maximum distance from which particles could have traveled to the observer in the age of the universe. It represents the boundary between the observable and the unobservable regions of the universe, so its distance at the present epoch defines the size of the observable universe. Due to the expansion of the universe it is *not* simply the age of the universe times the speed of light. The portion of the universe lying within the horizon for a particular observer is referred to as the *visible universe* for that observer. The visible universe consists of all points in space that have had sufficient time to send information, in the form of photons or other relatavistic particles, to the observer. In other words, the visible universe consists of all points that are *causally connected to the observer*. For derivations of the horizon distance, see page 79 in Ryden's book.\n",
    "\n",
    "$$R_h \\propto c/H(t)$$"
   ]
  },
  {
   "cell_type": "markdown",
   "metadata": {},
   "source": [
    "Sound horizon: the distance sound waves could have traveled in the time before recombination is called the sound horizon and is noted $r_s$. The distance (angular diamter distance) to the surface of last scattering is noted $d_{sls}$. The sound horizon is a fixed physical scale at the surface of last scattering. Both $r_s$ and $d_{sls}$ depend on cosmological parameters. \n",
    "\n",
    "$$r_s =\\int_{0}^{t_{SLS}} c_s dt$$\n",
    "\n",
    "Where $c_s$ is the sound speed of the photon baryon fluid.\n",
    "\n",
    "The angular size of the sound horizon is:\n",
    "\n",
    "$$\\theta_s  \\approx \\frac{r_s}{d_{sls}}$$\n",
    "    \n",
    "The location of the first acoustic peak is given by $\\theta_s$ and is most sensitive to the curvature of the universe $\\Omega_k$.\n",
    "  \n",
    "<img width=500 align=center src=\"https://ned.ipac.caltech.edu/level5/Sept02/Reid/Figures/figure3.jpg\"></img>\n",
    "\n",
    "The surface of last scattering (SLS), the fundamental acoustic mode, and the sound horizon ($r_s$).\n",
    "\n",
    "Image from NED - for further information see <a href=\"https://ned.ipac.caltech.edu/level5/Sept02/Reid/Reid5_2.html\">NED</a>\n"
   ]
  },
  {
   "cell_type": "markdown",
   "metadata": {},
   "source": [
    "The __horizon distance__ at the time of last scattering is roughly $d_{hor}=0.25$ Mpc. A patch of the last scattering surface with this physical size will have an angular size seen from Earlth of about 1.1$^{\\circ}$. This corresponds to a multipole of $l_{hor}\\sim 160$\n",
    "\n",
    "The angular size of the __sound horizon__ a the time of last scattering is roughly 0.7$^{\\circ}$. This corresponds to a multipole of $l\\sim 250$.\n",
    "\n",
    "Notice that the behaviour of the fluctuations is notably different depending on $l$.\n",
    "\n",
    "* $l<l_{hor}$ (large angular scales): value of $\\Delta_T$ becomes \"flat\". This are regions that are not causally connected. \n",
    "\n",
    "* $l>l_{hor}$ (small angular scales): value of $\\Delta_T$ shows peaks and troughs. The first peak ($l\\sim220$) has the highest amplitude. These are regions that are causually connected.\n",
    "\n",
    "We will not go into detail about the origins of the peaks and troughs in the CMB. There is not a simple one-to-one connection between the fluctuations in the overdensity field $\\delta$ and the temperature anisotropies of the CMB. This is because several different effects modify the temperature of the CMB at $z=1000$:\n",
    "\n",
    "* gravitational redshift (redshift and blueshifts of photons climbing out of potential wells)\n",
    "* doppler effect (bulk motion of the baryon-photon fluid)\n",
    "* Compression (temperature increases) and rarefraction (temperature decreases) modifies the temperature of the photon baryon fluid\n",
    "\n",
    "The interplay of these effects and the overdensity field $\\delta$ isn't trivial and is therefore computed with codes such as CMBFAST and/or CLASS.\n",
    "\n",
    "Broadly speaking, however, what we want to take away from the CMB at this stage is that:\n",
    "\n",
    "* The CMB is very smooth (temperature fluctuations are small). In fact, the fluctuations are so small that the formation of large scale structures cannot be explained solely based on baryonic seed perturbations (dark matter is necessary to explain the structures that we see today, this will becomes more clear in classes 3 and 4).\n",
    "* The anisotropies in the CMB are related to those in $\\delta$, but in a non trivial manner\n",
    "* Prior to recombination, and on scales below the sound horizon, the baryons and the photons (the *Photon-baryon fluid*) oscillate in the so-called baryonic acoustic oscillations (BAO). An overdensity will start to collapse under its own gravity, but eventually the build-up of pressure will halt and reverse the expansion. If there is enough time, a perturbation can contract and re-expand several times, a cycle of \"acoustic oscillations\".\n",
    "* There is a preferred scale on which the temperature fluctuations in the CMB are the largest (the \"first peak\" of the CMB). This is the scale for which an over-dense region has had just enough time to collapse to maximum compression when the universe recombines (and this pattern is thus imprinted onto the CMB). These potential wells have a size comparable to the __sound horizon distance__ (how far a pressure wave can travel) for the photon-baryon fluid at the time of last scattering . This scale, provides a \"standard ruler\", whose apparent angular size can be used to measure the geometry of space.\n",
    "* The first peak is the fundamental mode -  peaks at larger $l$ (smaller angular scales!) show the effects of the overtones where multiple oscillations have occured."
   ]
  },
  {
   "cell_type": "markdown",
   "metadata": {},
   "source": [
    "Vocabulary: \n",
    "\n",
    "* __Primary anisotropies__: effects in the CMB that occur prior to recombination\n",
    "* __Secondary anisotropies__: effects that occur between the surface of last scattering ($z\\sim1000$) and today (e.g the SZ effect, lensing of the CMB)"
   ]
  },
  {
   "cell_type": "markdown",
   "metadata": {},
   "source": [
    "### Baryon Acoustic Oscillations\n",
    "\n",
    "The next generation (US-lead) experiement to measure BAO is called the <a href=\"http://desi.lbl.gov\">The Dark Energy Spectrosopic Instrument</a>. It will begin data collection in 2019 and will take spectra for tens of millions of objects!\n",
    "\n",
    "Take a few minutes to browse through the DESI website ...."
   ]
  },
  {
   "cell_type": "markdown",
   "metadata": {},
   "source": [
    "We wil not discuss the physics of the CMB further in this class. \n",
    "\n",
    "I will simply point out this cool interactive website by Max Tegmark where you can play around with the impact of various cosmological parameters on the CMB.\n",
    "\n",
    "http://space.mit.edu/home/tegmark/movies.html\n",
    "\n",
    "Take a look and see how $n_s$ modifies the temperature fluctuations of the CMB.\n",
    "\n",
    "Also, read  <a href=\"https://www.nature.com/scientificamerican/journal/v290/n2/pdf/scientificamerican0204-44.pdf?foxtrotcallback=true\">The Cosmic Symphony</a> by Wayne Hu and Martin White.\n",
    "\n",
    "And a  <a href=\"http://www.astro.caltech.edu/~george/ay21/Cosmo_5.3_CMBcosmology.pdf\"> lecture on the CMB</a> by George Djorgovski.\n",
    "\n",
    "And the second half of <a href=\"http://www.astro.yale.edu/vdbosch/astro610_lecture7.pdf\">Frank's lecture</a> nicely explains the locations of the CMB peaks."
   ]
  },
  {
   "cell_type": "markdown",
   "metadata": {
    "slideshow": {
     "slide_type": "slide"
    }
   },
   "source": [
    "How about the low redshift universe? Let's take a look at the large scale structure in the SDSS survey."
   ]
  },
  {
   "cell_type": "markdown",
   "metadata": {
    "collapsed": true
   },
   "source": [
    "## Large Scale Structure in SDSS"
   ]
  },
  {
   "cell_type": "code",
   "execution_count": 1,
   "metadata": {},
   "outputs": [],
   "source": [
    "import numpy as np\n",
    "from classcode.read_sdss_fits import read_sdss_fits\n",
    "from classcode.setupdir import data_home_dir\n",
    "%matplotlib inline\n",
    "import matplotlib.pyplot as plt\n",
    "from classcode.plot_utils import plot_pretty\n",
    "plot_pretty(dpi=200)"
   ]
  },
  {
   "cell_type": "code",
   "execution_count": 2,
   "metadata": {},
   "outputs": [
    {
     "name": "stdout",
     "output_type": "stream",
     "text": [
      "***error! data file /Users/runquanguan/Documents/ASTR214_Runquan/data/SDSSspecgalsDR8full.fits  does not exist!\n"
     ]
    },
    {
     "name": "stderr",
     "output_type": "stream",
     "text": [
      "/Users/runquanguan/anaconda3/lib/python3.7/site-packages/pyfits/__init__.py:22: PyFITSDeprecationWarning: PyFITS is deprecated, please use astropy.io.fits\n",
      "  PyFITSDeprecationWarning)  # noqa\n"
     ]
    },
    {
     "ename": "TypeError",
     "evalue": "'int' object is not subscriptable",
     "output_type": "error",
     "traceback": [
      "\u001b[0;31m---------------------------------------------------------------------------\u001b[0m",
      "\u001b[0;31mTypeError\u001b[0m                                 Traceback (most recent call last)",
      "\u001b[0;32m<ipython-input-2-e6d57ee0e4df>\u001b[0m in \u001b[0;36m<module>\u001b[0;34m\u001b[0m\n\u001b[1;32m      9\u001b[0m \u001b[0;34m\u001b[0m\u001b[0m\n\u001b[1;32m     10\u001b[0m \u001b[0;31m# RA and DEC cuts\u001b[0m\u001b[0;34m\u001b[0m\u001b[0;34m\u001b[0m\u001b[0;34m\u001b[0m\u001b[0m\n\u001b[0;32m---> 11\u001b[0;31m \u001b[0mdatac\u001b[0m \u001b[0;34m=\u001b[0m \u001b[0madata\u001b[0m\u001b[0;34m[\u001b[0m\u001b[0;34m(\u001b[0m\u001b[0madata\u001b[0m\u001b[0;34m[\u001b[0m\u001b[0;34m'dec'\u001b[0m\u001b[0;34m]\u001b[0m \u001b[0;34m>\u001b[0m \u001b[0;34m-\u001b[0m\u001b[0;36m10\u001b[0m\u001b[0;34m)\u001b[0m \u001b[0;34m&\u001b[0m \u001b[0;34m(\u001b[0m\u001b[0madata\u001b[0m\u001b[0;34m[\u001b[0m\u001b[0;34m'dec'\u001b[0m\u001b[0;34m]\u001b[0m \u001b[0;34m<\u001b[0m \u001b[0;36m75\u001b[0m\u001b[0;34m)\u001b[0m \u001b[0;34m&\u001b[0m \u001b[0;34m(\u001b[0m\u001b[0madata\u001b[0m\u001b[0;34m[\u001b[0m\u001b[0;34m'ra'\u001b[0m\u001b[0;34m]\u001b[0m \u001b[0;34m>\u001b[0m \u001b[0;36m100\u001b[0m\u001b[0;34m)\u001b[0m \u001b[0;34m&\u001b[0m \u001b[0;34m(\u001b[0m\u001b[0madata\u001b[0m\u001b[0;34m[\u001b[0m\u001b[0;34m'ra'\u001b[0m\u001b[0;34m]\u001b[0m \u001b[0;34m<\u001b[0m \u001b[0;36m270\u001b[0m\u001b[0;34m)\u001b[0m\u001b[0;34m]\u001b[0m\u001b[0;34m\u001b[0m\u001b[0;34m\u001b[0m\u001b[0m\n\u001b[0m\u001b[1;32m     12\u001b[0m \u001b[0mz\u001b[0m \u001b[0;34m=\u001b[0m \u001b[0mdatac\u001b[0m\u001b[0;34m[\u001b[0m\u001b[0;34m'z'\u001b[0m\u001b[0;34m]\u001b[0m\u001b[0;34m\u001b[0m\u001b[0;34m\u001b[0m\u001b[0m\n\u001b[1;32m     13\u001b[0m \u001b[0;34m\u001b[0m\u001b[0m\n",
      "\u001b[0;31mTypeError\u001b[0m: 'int' object is not subscriptable"
     ]
    }
   ],
   "source": [
    "\"\"\"\n",
    "plot the large scale structure seen in SDSS\n",
    "\n",
    "\"\"\"\n",
    "\n",
    "# read fits file with the SDSS DR8 main spectroscopic sample\n",
    "# The SDSS data file should be under your data directory\n",
    "adata = read_sdss_fits(data_home_dir()+'/SDSSspecgalsDR8full.fits')\n",
    "\n",
    "# RA and DEC cuts\n",
    "datac = adata[(adata['dec'] > -10) & (adata['dec'] < 75) & (adata['ra'] > 100) & (adata['ra'] < 270)]\n",
    "z = datac['z']\n",
    "\n",
    "datap = datac[(z > 0.01) & (z < 0.06)]\n",
    "\n",
    "xlabel = r'$\\mathrm{R.A.}$'; ylabel = r'$\\mathrm{dec.}$'\n",
    "xlim = [110.,260.]; ylim =[-5.,70]\n",
    "\n",
    "# Plot the results\n",
    "\n",
    "fig = plt.figure(figsize=(4, 4))\n",
    "plt.xlim(xlim); plt.ylim(ylim)\n",
    "plt.xlabel(r'$\\mathrm{R.A.}$')\n",
    "plt.ylabel(r'$\\mathrm{dec.}$')\n",
    "plt.scatter(datap['ra'],datap['dec'], marker='.', edgecolor='none', color='blue', s=.5, alpha=1.)\n",
    "plt.title(r'$0.01<z<0.06$')\n",
    "plt.savefig('fig/sky_lss_z006.png')\n",
    "plt.show()\n",
    "\n",
    "datap = datac[(z > 0.06) & (z < 0.1)]\n",
    "fig = plt.figure(figsize=(4, 4))\n",
    "plt.xlim(xlim); plt.ylim(ylim)\n",
    "plt.xlabel(r'$\\mathrm{R.A.}$')\n",
    "plt.ylabel(r'$\\mathrm{dec.}$')\n",
    "plt.scatter(datap['ra'],datap['dec'], marker='.', edgecolor='none', color='blue', s=.5, alpha=1.)\n",
    "\n",
    "plt.title(r'$0.06<z<0.1$')\n",
    "plt.savefig('fig/sky_lss_z010.png')\n",
    "plt.show()\n"
   ]
  },
  {
   "cell_type": "markdown",
   "metadata": {},
   "source": [
    "## SDSS WEDGE PLOTS\n",
    "\n",
    "3D Large-scale structure as traced by galaxies.\n",
    "\n",
    "sdss_wedge.py allows you to explore the SDSS galaxy distribution interactively. \n",
    "\n",
    "The existence of galaxy clusters was known before people understood what galaxies were. Clusters were catalogued by Hubble, Zwicky, and Shapley. Shapley was also cataloguing superclusters in the 1930s.\n",
    "\n",
    "The existence of a \"web-like\" large-scale structure, __the cosmic web__, was revealed in galaxy surveys of increasingly large size from the 1970s onwards. Observational work was accompanied with a rapid developement of the theory of structure formation in the universe."
   ]
  },
  {
   "cell_type": "code",
   "execution_count": null,
   "metadata": {},
   "outputs": [],
   "source": [
    "# Uses the data files SDSSspecgalsDR8full.fits, table1.text, table2.text, table3.txt\n",
    "# which were obtained from https://github.com/margudo/LSSGALPY\n",
    "\n",
    "from classcode.sdss_wedge import sdss_wedge\n",
    "\n",
    "# This code gives an error, can you find the error?\n",
    "# If so, please tell me what it is!\n",
    "sdss_wedge"
   ]
  },
  {
   "cell_type": "markdown",
   "metadata": {},
   "source": [
    "Large-scale structure in the distribution of SDSS galaxies at redshifts 0 < z < 0.1 and declination slice of 0 < δ < 10 degrees.\n",
    "\n",
    "The declination range of the wedge is shown as a red band in the sub-plot showing the Mollweide projection of the sky with the SDSS area shown in lavender color. \n",
    "\n",
    "The large ribbon-like structure at z ≈ 0.07 − 0.08 in the left wedge of the diagram is the SDSS Great Wall. This figure was made using the LSSGalPy code."
   ]
  },
  {
   "cell_type": "markdown",
   "metadata": {},
   "source": [
    "Today's universe shows structure on scales from individual galaxies, to groups, and clusters of galaxies, that can extend over 100 Mpc or more. The Universe that we see today is much less homogenous and smooth compared to the CMB.\n",
    "\n",
    "If the universe if smooth, but not perfectly smooth, then gravity can cause stuctures to grow by drawing matter into regions that started slighly above the average density.\n",
    "\n",
    "For this process to wrok, there must of been small-amplitude inhomogeneities present in the early universe. These are the \"seeds\" of large scale structure.\n",
    "\n",
    "One of the goals of this class is to undersand how such structures formed from the density perturbations in the early universe and how these structures evolve with cosmic time.\n",
    "\n",
    "If the universe were comprised only of baryonic matter, then the predicted fluctuations in the CMB would have to be one part in $10^3$ \n",
    "\n",
    "But the levels of the CMB anisotropies are one part in $\\sim 10^{5}$!\n",
    "\n",
    "The CMB is so smooth (temperature fluctuations are small) that the formation of large scale structures cannot be explained solely based on baryonic seed perturbations.\n",
    "\n",
    "**Dark matter is required to allow the perturbations to grow to the scales that we observe today**. \n",
    "We will see how this works in the next class."
   ]
  },
  {
   "cell_type": "markdown",
   "metadata": {},
   "source": [
    "# Homework for next class\n",
    "\n",
    "Read the following: \n",
    "* http://www.astronomy.ohio-state.edu/~dhw/A873/notes8.pdf, \n",
    "* pages 41 to 46 in Andrey's class \n",
    "* Ch 11 in Ryden's book (gravitational Instability). Work through the simple example given in Section 11.1 (collapse of a uniform sphere in a static presureless medium).\n",
    "\n",
    "And please also review the code shown in this class\n",
    "\n",
    "In the next class, we will talk about how the fluctuations grow with cosmic time in the linear regime\n",
    "\n",
    "* linear regime: $\\delta << 1$\n",
    "* non linear regime: $\\delta >> 1$"
   ]
  }
 ],
 "metadata": {
  "celltoolbar": "Slideshow",
  "kernelspec": {
   "display_name": "Python 3",
   "language": "python",
   "name": "python3"
  },
  "language_info": {
   "codemirror_mode": {
    "name": "ipython",
    "version": 3
   },
   "file_extension": ".py",
   "mimetype": "text/x-python",
   "name": "python",
   "nbconvert_exporter": "python",
   "pygments_lexer": "ipython3",
   "version": "3.7.3"
  }
 },
 "nbformat": 4,
 "nbformat_minor": 1
}

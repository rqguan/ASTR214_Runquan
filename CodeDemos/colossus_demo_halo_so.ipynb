{
 "cells": [
  {
   "cell_type": "markdown",
   "metadata": {},
   "source": [
    "## Colossus halo demo: Spherical overdensity mass and radius"
   ]
  },
  {
   "cell_type": "markdown",
   "metadata": {},
   "source": [
    "Welcome to the Colossus halo demo. "
   ]
  },
  {
   "cell_type": "code",
   "execution_count": 1,
   "metadata": {
    "collapsed": true
   },
   "outputs": [],
   "source": [
    "from __future__ import print_function \n",
    "import numpy as np\n",
    "import matplotlib.pyplot as plt\n",
    "%matplotlib inline"
   ]
  },
  {
   "cell_type": "markdown",
   "metadata": {
    "collapsed": true
   },
   "source": [
    "As always with colossus, we need to set a cosmology."
   ]
  },
  {
   "cell_type": "code",
   "execution_count": 2,
   "metadata": {
    "collapsed": true
   },
   "outputs": [],
   "source": [
    "from colossus.cosmology import cosmology\n",
    "cosmology.setCosmology('planck15');"
   ]
  },
  {
   "cell_type": "markdown",
   "metadata": {},
   "source": [
    "Let's begin with the spherical overdensity mass module."
   ]
  },
  {
   "cell_type": "code",
   "execution_count": 3,
   "metadata": {
    "collapsed": true
   },
   "outputs": [],
   "source": [
    "from colossus.halo import mass_so"
   ]
  },
  {
   "cell_type": "markdown",
   "metadata": {},
   "source": [
    "The most commonly used definitions of halo mass are spherical overdensity definitions. Colossus provides convenient routines to convert between radius, mass, and different definitions. First, let's look at the density thresholds themselves:"
   ]
  },
  {
   "cell_type": "code",
   "execution_count": 5,
   "metadata": {
    "collapsed": false
   },
   "outputs": [
    {
     "data": {
      "image/png": "[encoded data removed]",
      "text/plain": [
       "<matplotlib.figure.Figure at 0x115022cf8>"
      ]
     },
     "metadata": {},
     "output_type": "display_data"
    }
   ],
   "source": [
    "z = np.linspace(0.0, 3.0, 40)\n",
    "\n",
    "thresh_vir = mass_so.densityThreshold(z, 'vir')\n",
    "thresh_m = mass_so.densityThreshold(z, '180m')\n",
    "thresh_c = mass_so.densityThreshold(z, '180c')\n",
    "\n",
    "plt.figure()\n",
    "plt.yscale('log')\n",
    "plt.xlabel('z')\n",
    "plt.ylabel('density')\n",
    "plt.plot(z, thresh_vir, label = 'vir');\n",
    "plt.plot(z, thresh_m, label = '180m');\n",
    "plt.plot(z, thresh_c, label = '180c');\n",
    "plt.legend();"
   ]
  },
  {
   "cell_type": "markdown",
   "metadata": {},
   "source": [
    "We can convert mass and radius into each other, for example, let's get the virial radius of a halo of virial mass 1E12 at z = 0.5, and convert it back:"
   ]
  },
  {
   "cell_type": "code",
   "execution_count": 6,
   "metadata": {
    "collapsed": false
   },
   "outputs": [
    {
     "name": "stdout",
     "output_type": "stream",
     "text": [
      "152.918690489\n",
      "1e+12\n"
     ]
    }
   ],
   "source": [
    "R = mass_so.M_to_R(1E12, 0.5, 'vir')\n",
    "print(R)\n",
    "M2 = mass_so.R_to_M(R, 0.5, 'vir')\n",
    "print(M2)"
   ]
  },
  {
   "cell_type": "markdown",
   "metadata": {},
   "source": [
    "Now let's convert this halo mass into another definition, say 200c. This function is in the mass_defs module:"
   ]
  },
  {
   "cell_type": "code",
   "execution_count": 7,
   "metadata": {
    "collapsed": true
   },
   "outputs": [],
   "source": [
    "from colossus.halo import mass_defs\n",
    "from colossus.halo import mass_adv"
   ]
  },
  {
   "cell_type": "markdown",
   "metadata": {},
   "source": [
    "Internally, this function makes an assumption about the density profile of the halo, by default an NFW profile. Thus, we need to give it a concentration:"
   ]
  },
  {
   "cell_type": "code",
   "execution_count": 8,
   "metadata": {
    "collapsed": false
   },
   "outputs": [
    {
     "name": "stdout",
     "output_type": "stream",
     "text": [
      "0.902872609265\n",
      "0.855615479756\n"
     ]
    }
   ],
   "source": [
    "Mvir = 1E12\n",
    "cvir = 7.0\n",
    "M200c, R200c, c200c = mass_defs.changeMassDefinition(Mvir, cvir, 0.5, 'vir', '200c')\n",
    "print(M200c / Mvir)\n",
    "print(c200c / cvir)"
   ]
  },
  {
   "cell_type": "markdown",
   "metadata": {},
   "source": [
    "As expected, both M200c and c200c are smaller than their virial counterparts. If we don't want to set the concentration manually, we can also use a model to estimate it:"
   ]
  },
  {
   "cell_type": "code",
   "execution_count": 9,
   "metadata": {
    "collapsed": false
   },
   "outputs": [
    {
     "name": "stdout",
     "output_type": "stream",
     "text": [
      "0.903971154079\n",
      "0.876745736798\n"
     ]
    }
   ],
   "source": [
    "M200c, R200c, c200c = mass_adv.changeMassDefinitionCModel(Mvir, 0.5, 'vir', '200c')\n",
    "print(M200c / Mvir)\n",
    "print(c200c / cvir)"
   ]
  },
  {
   "cell_type": "markdown",
   "metadata": {},
   "source": [
    "We get similar results because the assumption of cvir = 7 probably wasn't crazy. The changeMassDefinition() function is a wrapper around a more general function called pseudoEvolve() which finds spherical overdensity radii and masses under the assumption that a profile is static. The name refers to pseudo-evolution, the change in mass and radius over time due to the changing mass definition. Let's see how much a halo pseudo-evolves between z = 1 and z = 0 if it's profile doesn't change at all:"
   ]
  },
  {
   "cell_type": "code",
   "execution_count": 10,
   "metadata": {
    "collapsed": false
   },
   "outputs": [
    {
     "name": "stdout",
     "output_type": "stream",
     "text": [
      "1.44268324742\n"
     ]
    }
   ],
   "source": [
    "Mvir_z1 = 1E12\n",
    "cvir_z1 = 7.0\n",
    "Mvir_z0, Rvir_z0, cvir_z0 = mass_defs.pseudoEvolve(Mvir_z1, cvir_z1, 1.0, 'vir', 0.0, 'vir') \n",
    "print(Mvir_z0 / Mvir_z1)"
   ]
  },
  {
   "cell_type": "markdown",
   "metadata": {},
   "source": [
    "The mass of the halo has increased by 44% by z = 0. "
   ]
  }
 ],
 "metadata": {
  "kernelspec": {
   "display_name": "Python 3",
   "language": "python",
   "name": "python3"
  },
  "language_info": {
   "codemirror_mode": {
    "name": "ipython",
    "version": 3
   },
   "file_extension": ".py",
   "mimetype": "text/x-python",
   "name": "python",
   "nbconvert_exporter": "python",
   "pygments_lexer": "ipython3",
   "version": "3.6.0"
  }
 },
 "nbformat": 4,
 "nbformat_minor": 2
}
